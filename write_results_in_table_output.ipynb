{
  "nbformat": 4,
  "nbformat_minor": 0,
  "metadata": {
    "colab": {
      "name": "Untitled0.ipynb",
      "provenance": [],
      "authorship_tag": "ABX9TyN4p65kQxhFcKQfqHQaD+pe",
      "include_colab_link": true
    },
    "kernelspec": {
      "name": "python3",
      "display_name": "Python 3"
    },
    "language_info": {
      "name": "python"
    }
  },
  "cells": [
    {
      "cell_type": "markdown",
      "metadata": {
        "id": "view-in-github",
        "colab_type": "text"
      },
      "source": [
        "<a href=\"https://colab.research.google.com/github/angel-deltasmith/bigquery-lighthouse/blob/main/write_results_in_table_output.ipynb\" target=\"_parent\"><img src=\"https://colab.research.google.com/assets/colab-badge.svg\" alt=\"Open In Colab\"/></a>"
      ]
    },
    {
      "cell_type": "code",
      "execution_count": null,
      "metadata": {
        "id": "VyjeHZoM-hWH"
      },
      "outputs": [],
      "source": [
        "!pip install --upgrade google-cloud-BigQuery"
      ]
    },
    {
      "cell_type": "code",
      "source": [
        "pip install --upgrade google-cloud-BigQuery=\"/content/dbtkey.json\""
      ],
      "metadata": {
        "id": "uPAo_66f-vMC"
      },
      "execution_count": null,
      "outputs": []
    },
    {
      "cell_type": "code",
      "source": [
        "!export GOOGLE_APPLICATION_CREDENTIALS=\"/content/dbtkey.json\"\n"
      ],
      "metadata": {
        "id": "0PpkljVU_Ros"
      },
      "execution_count": 3,
      "outputs": []
    },
    {
      "cell_type": "code",
      "source": [
        "!pip3 install --upgrade google-cloud-bigquery\n"
      ],
      "metadata": {
        "id": "ogQMmIRZ_YFr"
      },
      "execution_count": null,
      "outputs": []
    },
    {
      "cell_type": "code",
      "source": [
        "!pip install --upgrade google-cloud"
      ],
      "metadata": {
        "id": "qOt6ziV8BB7n"
      },
      "execution_count": null,
      "outputs": []
    },
    {
      "cell_type": "code",
      "source": [
        "!pip install --upgrade google-cloud-bigquery"
      ],
      "metadata": {
        "id": "5PfArA7mBPT5"
      },
      "execution_count": null,
      "outputs": []
    },
    {
      "cell_type": "code",
      "source": [
        "!pip install --upgrade google-cloud-bigquery"
      ],
      "metadata": {
        "id": "5KFiIIsOBS6h"
      },
      "execution_count": null,
      "outputs": []
    },
    {
      "cell_type": "code",
      "source": [
        "from google.cloud.bigquery.client import Client\n",
        "client = Client.from_service_account_json('/content/dbtkey.json', project='dbt-project-335000')"
      ],
      "metadata": {
        "id": "IsXQVXxyDKM4"
      },
      "execution_count": 21,
      "outputs": []
    },
    {
      "cell_type": "code",
      "source": [
        "client.list_datasets()"
      ],
      "metadata": {
        "colab": {
          "base_uri": "https://localhost:8080/"
        },
        "id": "skYWCHmxD5CI",
        "outputId": "337d37f2-e784-4d59-e2a4-87685c521a9a"
      },
      "execution_count": 22,
      "outputs": [
        {
          "output_type": "execute_result",
          "data": {
            "text/plain": [
              "<google.api_core.page_iterator.HTTPIterator at 0x7fda2b0d8550>"
            ]
          },
          "metadata": {},
          "execution_count": 22
        }
      ]
    },
    {
      "cell_type": "code",
      "source": [
        "from google.cloud import bigquery\n",
        "project_id = 'dbt-project-335000'\n",
        "\n",
        "datasets = list(client.list_datasets())  # Make an API request.\n",
        "project = client.project\n",
        "\n",
        "if datasets:\n",
        "    print(\"Datasets in project {}:\".format(project))\n",
        "    for dataset in datasets:\n",
        "        print(\"\\t{}\".format(dataset.dataset_id))\n",
        "else:\n",
        "    print(\"{} project does not contain any datasets.\".format(project))\n"
      ],
      "metadata": {
        "colab": {
          "base_uri": "https://localhost:8080/"
        },
        "id": "brsWzHcZA11S",
        "outputId": "001d22d5-5659-4ec7-f4eb-c79f21a9c9dd"
      },
      "execution_count": 23,
      "outputs": [
        {
          "output_type": "stream",
          "name": "stdout",
          "text": [
            "Datasets in project dbt-project-335000:\n",
            "\tdbt_mangel\n"
          ]
        }
      ]
    },
    {
      "cell_type": "code",
      "source": [
        "tables = list(client.list_tables('dbt_mangel'))"
      ],
      "metadata": {
        "id": "oUQ8z3sEA17K"
      },
      "execution_count": 25,
      "outputs": []
    },
    {
      "cell_type": "code",
      "source": [
        "df = client.query('''\n",
        "  SELECT \n",
        "    * \n",
        "  FROM `dbt-project-335000.dbt_mangel.input_test`''').result().to_dataframe()\n",
        "\n",
        "print(df.head())"
      ],
      "metadata": {
        "colab": {
          "base_uri": "https://localhost:8080/"
        },
        "id": "JNT6w2aZI740",
        "outputId": "b97687c2-61f5-4c8e-cc17-47f868560c38"
      },
      "execution_count": 29,
      "outputs": [
        {
          "output_type": "stream",
          "name": "stderr",
          "text": [
            "/usr/local/lib/python3.7/dist-packages/google/cloud/bigquery/table.py:1563: UserWarning: Dependency google-cloud-bigquery-storage is outdated, please upgrade it to version >= 2.0.0 (version found: 0.0.0).\n",
            "  warnings.warn(str(exc))\n"
          ]
        },
        {
          "output_type": "stream",
          "name": "stdout",
          "text": [
            "   id                   name                               url\n",
            "0   1  Arctic Travel Company  https://arctictravelcompany.com/\n"
          ]
        }
      ]
    },
    {
      "cell_type": "code",
      "source": [
        "# Set table_id to the ID of the table model to fetch.\n",
        "table_id = 'dbt-project-335000.dbt_mangel.output_test'\n",
        "\n",
        "# Make an API request.\n",
        "table = client.get_table(table_id)  \n",
        "\n",
        "# View table properties\n",
        "print(f\"Got table {table_id}.\")\n",
        "print(f\"Table schema: {table.schema}\")\n",
        "print(f\"Table description: {table.description}\")\n",
        "print(f\"Table has {table.num_rows} rows\")"
      ],
      "metadata": {
        "colab": {
          "base_uri": "https://localhost:8080/"
        },
        "id": "Ha3qu9DQPWZ-",
        "outputId": "4c0f43e9-a1fc-4952-e779-6f34b49167a6"
      },
      "execution_count": 30,
      "outputs": [
        {
          "output_type": "stream",
          "name": "stdout",
          "text": [
            "Got table dbt-project-335000.dbt_mangel.output_test.\n",
            "Table schema: [SchemaField('fetch_time', 'TIMESTAMP', 'NULLABLE', 'Timestamp when the audit was performed.', (), None), SchemaField('site_url', 'STRING', 'NULLABLE', 'URL that was audited.', (), None), SchemaField('site_id', 'STRING', 'NULLABLE', 'Site ID and Pub/Sub trigger message.', (), None), SchemaField('user_agent', 'STRING', 'NULLABLE', 'User-Agent string of the browser that did the audit.', (), None), SchemaField('job_id', 'STRING', 'NULLABLE', 'The BigQuery Job ID of the load.', (), None), SchemaField('emulated_as', 'STRING', 'NULLABLE', 'The device type that was emulated for the audit.', (), None), SchemaField('accessibility', 'RECORD', 'REPEATED', 'These checks highlight opportunities to [improve the accessibility of your web app](https://developers.google.com/web/fundamentals/accessibility). Only a subset of accessibility issues can be automatically detected so manual testing is also encouraged.', (SchemaField('total_score', 'FLOAT', 'NULLABLE', 'Total score of this category.', (), None), SchemaField('bypass_repetitive_content', 'BOOLEAN', 'NULLABLE', 'Adding ways to bypass repetitive content lets keyboard users navigate the page more efficiently. [Learn more](https://dequeuniversity.com/rules/axe/2.2/bypass?application=lighthouse).', (), None), SchemaField('color_contrast', 'BOOLEAN', 'NULLABLE', 'Low-contrast text is difficult or impossible for many users to read. [Learn more](https://dequeuniversity.com/rules/axe/2.2/color-contrast?application=lighthouse).', (), None), SchemaField('document_title_found', 'BOOLEAN', 'NULLABLE', 'The title gives screen reader users an overview of the page, and search engine users rely on it heavily to determine if a page is relevant to their search. [Learn more](https://developers.google.com/web/tools/lighthouse/audits/title).', (), None), SchemaField('no_duplicate_id_attribute', 'BOOLEAN', 'NULLABLE', None, (), None), SchemaField('html_has_lang_attribute', 'BOOLEAN', 'NULLABLE', \"If a page doesn't specify a lang attribute, a screen reader assumes that the page is in the default language that the user chose when setting up the screen reader. If the page isn't actually in the default language, then the screen reader might not announce the page's text correctly. [Learn more](https://dequeuniversity.com/rules/axe/2.2/html-lang?application=lighthouse).\", (), None), SchemaField('html_lang_is_valid', 'BOOLEAN', 'NULLABLE', 'Specifying a valid [BCP 47 language](https://www.w3.org/International/questions/qa-choosing-language-tags#question) helps screen readers announce text properly. [Learn more](https://dequeuniversity.com/rules/axe/2.2/valid-lang?application=lighthouse).', (), None), SchemaField('images_have_alt_attribute', 'BOOLEAN', 'NULLABLE', 'Informative elements should aim for short, descriptive alternate text. Decorative elements can be ignored with an empty alt attribute. [Learn more](https://dequeuniversity.com/rules/axe/2.2/image-alt?application=lighthouse).', (), None), SchemaField('form_elements_have_labels', 'BOOLEAN', 'NULLABLE', 'Labels ensure that form controls are announced properly by assistive technologies, like screen readers. [Learn more](https://dequeuniversity.com/rules/axe/2.2/label?application=lighthouse).', (), None), SchemaField('links_have_names', 'BOOLEAN', 'NULLABLE', 'Link text (and alternate text for images, when used as links) that is discernible, unique, and focusable improves the navigation experience for screen reader users. [Learn more](https://dequeuniversity.com/rules/axe/2.2/link-name?application=lighthouse).', (), None), SchemaField('lists_are_well_formed', 'BOOLEAN', 'NULLABLE', 'Screen readers have a specific way of announcing lists. Ensuring proper list structure aids screen reader output. [Learn more](https://dequeuniversity.com/rules/axe/2.2/list?application=lighthouse).', (), None), SchemaField('list_items_within_proper_parents', 'BOOLEAN', 'NULLABLE', 'Screen readers require list items (`<li>`) to be contained within a parent `<ul>` or `<ol>` to be announced properly. [Learn more](https://dequeuniversity.com/rules/axe/2.2/listitem?application=lighthouse).', (), None), SchemaField('meta_viewport_allows_zoom', 'BOOLEAN', 'NULLABLE', 'Disabling zooming is problematic for users with low vision who rely on screen magnification to properly see the contents of a web page. [Learn more](https://dequeuniversity.com/rules/axe/2.2/meta-viewport?application=lighthouse).', (), None)), None), SchemaField('best_practices', 'RECORD', 'REPEATED', None, (SchemaField('total_score', 'FLOAT', 'NULLABLE', 'Total score of this category.', (), None),), None), SchemaField('performance', 'RECORD', 'REPEATED', None, (SchemaField('total_score', 'FLOAT', 'NULLABLE', 'Total score of this category.', (), None),), None), SchemaField('pwa', 'RECORD', 'REPEATED', None, (SchemaField('total_score', 'FLOAT', 'NULLABLE', 'Total score of this category.', (), None),), None)]\n",
            "Table description: None\n",
            "Table has 0 rows\n"
          ]
        }
      ]
    },
    {
      "cell_type": "code",
      "source": [
        "table_id = 'dbt-project-335000.dbt_mangel.output2'\n",
        "table = client.get_table(table_id)  \n",
        "# View table properties\n",
        "print(f\"Got table {table_id}.\")\n",
        "print(f\"Table schema: {table.schema}\")\n",
        "print(f\"Table description: {table.description}\")\n",
        "print(f\"Table has {table.num_rows} rows\")"
      ],
      "metadata": {
        "colab": {
          "base_uri": "https://localhost:8080/"
        },
        "id": "xktqYkDwQ8I1",
        "outputId": "c9126726-da6c-4600-8a53-81fff6c2c591"
      },
      "execution_count": 31,
      "outputs": [
        {
          "output_type": "stream",
          "name": "stdout",
          "text": [
            "Got table dbt-project-335000.dbt_mangel.output2.\n",
            "Table schema: [SchemaField('id', 'INTEGER', 'NULLABLE', None, (), None), SchemaField('name', 'STRING', 'NULLABLE', None, (), None), SchemaField('url', 'STRING', 'NULLABLE', None, (), None)]\n",
            "Table description: None\n",
            "Table has 0 rows\n"
          ]
        }
      ]
    },
    {
      "cell_type": "code",
      "source": [
        "# TODO(developer): Set table_id to the ID of the destination table.\n",
        "# table_id = \"your-project.your_dataset.your_table_name\"\n",
        "table_id = 'dbt-project-335000.dbt_mangel.output2'\n",
        "job_config = bigquery.QueryJobConfig(destination=table_id)\n",
        "\n",
        "sql = \"\"\"\n",
        "    SELECT \n",
        "    * \n",
        "  FROM `dbt-project-335000.dbt_mangel.input_test`;\n",
        "\"\"\"\n",
        "\n",
        "# Start the query, passing in the extra configuration.\n",
        "query_job = client.query(sql, job_config=job_config)  # Make an API request.\n",
        "query_job.result()  # Wait for the job to complete.\n",
        "\n",
        "print(\"Query results loaded to the table {}\".format(table_id))"
      ],
      "metadata": {
        "colab": {
          "base_uri": "https://localhost:8080/"
        },
        "id": "rJgKVR8zQEiu",
        "outputId": "e8752d7a-98ae-4e76-c468-3e6ba73b8445"
      },
      "execution_count": 32,
      "outputs": [
        {
          "output_type": "stream",
          "name": "stdout",
          "text": [
            "Query results loaded to the table dbt-project-335000.dbt_mangel.output2\n"
          ]
        }
      ]
    }
  ]
}