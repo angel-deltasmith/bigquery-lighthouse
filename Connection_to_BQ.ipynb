{
  "nbformat": 4,
  "nbformat_minor": 0,
  "metadata": {
    "colab": {
      "name": "Untitled0.ipynb",
      "provenance": [],
      "authorship_tag": "ABX9TyPAEOixCIMatzrT8xl1lRv/",
      "include_colab_link": true
    },
    "kernelspec": {
      "name": "python3",
      "display_name": "Python 3"
    },
    "language_info": {
      "name": "python"
    }
  },
  "cells": [
    {
      "cell_type": "markdown",
      "metadata": {
        "id": "view-in-github",
        "colab_type": "text"
      },
      "source": [
        "<a href=\"https://colab.research.google.com/github/angel-deltasmith/bigquery-lighthouse/blob/main/Connection_to_BQ.ipynb\" target=\"_parent\"><img src=\"https://colab.research.google.com/assets/colab-badge.svg\" alt=\"Open In Colab\"/></a>"
      ]
    },
    {
      "cell_type": "code",
      "execution_count": null,
      "metadata": {
        "id": "VyjeHZoM-hWH"
      },
      "outputs": [],
      "source": [
        "!pip install --upgrade google-cloud-BigQuery"
      ]
    },
    {
      "cell_type": "code",
      "source": [
        "pip install --upgrade google-cloud-BigQuery=\"/content/dbtkey.json\""
      ],
      "metadata": {
        "id": "uPAo_66f-vMC"
      },
      "execution_count": null,
      "outputs": []
    },
    {
      "cell_type": "code",
      "source": [
        "!export GOOGLE_APPLICATION_CREDENTIALS=\"/content/dbtkey.json\"\n"
      ],
      "metadata": {
        "id": "0PpkljVU_Ros"
      },
      "execution_count": 3,
      "outputs": []
    },
    {
      "cell_type": "code",
      "source": [
        "!pip3 install --upgrade google-cloud-bigquery\n"
      ],
      "metadata": {
        "id": "ogQMmIRZ_YFr"
      },
      "execution_count": null,
      "outputs": []
    },
    {
      "cell_type": "code",
      "source": [
        "!pip install --upgrade google-cloud"
      ],
      "metadata": {
        "id": "qOt6ziV8BB7n"
      },
      "execution_count": null,
      "outputs": []
    },
    {
      "cell_type": "code",
      "source": [
        "!pip install --upgrade google-cloud-bigquery"
      ],
      "metadata": {
        "id": "5PfArA7mBPT5"
      },
      "execution_count": null,
      "outputs": []
    },
    {
      "cell_type": "code",
      "source": [
        "!pip install --upgrade google-cloud-bigquery"
      ],
      "metadata": {
        "id": "5KFiIIsOBS6h"
      },
      "execution_count": null,
      "outputs": []
    },
    {
      "cell_type": "code",
      "source": [
        "from google.cloud.bigquery.client import Client\n",
        "client = Client.from_service_account_json('/content/dbtkey.json', project='dbt-project-335000')"
      ],
      "metadata": {
        "id": "IsXQVXxyDKM4"
      },
      "execution_count": 21,
      "outputs": []
    },
    {
      "cell_type": "code",
      "source": [
        "client.list_datasets()"
      ],
      "metadata": {
        "colab": {
          "base_uri": "https://localhost:8080/"
        },
        "id": "skYWCHmxD5CI",
        "outputId": "337d37f2-e784-4d59-e2a4-87685c521a9a"
      },
      "execution_count": 22,
      "outputs": [
        {
          "output_type": "execute_result",
          "data": {
            "text/plain": [
              "<google.api_core.page_iterator.HTTPIterator at 0x7fda2b0d8550>"
            ]
          },
          "metadata": {},
          "execution_count": 22
        }
      ]
    },
    {
      "cell_type": "code",
      "source": [
        "from google.cloud import bigquery\n",
        "project_id = 'dbt-project-335000'\n",
        "\n",
        "datasets = list(client.list_datasets())  # Make an API request.\n",
        "project = client.project\n",
        "\n",
        "if datasets:\n",
        "    print(\"Datasets in project {}:\".format(project))\n",
        "    for dataset in datasets:\n",
        "        print(\"\\t{}\".format(dataset.dataset_id))\n",
        "else:\n",
        "    print(\"{} project does not contain any datasets.\".format(project))\n"
      ],
      "metadata": {
        "colab": {
          "base_uri": "https://localhost:8080/"
        },
        "id": "brsWzHcZA11S",
        "outputId": "001d22d5-5659-4ec7-f4eb-c79f21a9c9dd"
      },
      "execution_count": 23,
      "outputs": [
        {
          "output_type": "stream",
          "name": "stdout",
          "text": [
            "Datasets in project dbt-project-335000:\n",
            "\tdbt_mangel\n"
          ]
        }
      ]
    },
    {
      "cell_type": "code",
      "source": [
        ""
      ],
      "metadata": {
        "id": "oUQ8z3sEA17K"
      },
      "execution_count": null,
      "outputs": []
    }
  ]
}